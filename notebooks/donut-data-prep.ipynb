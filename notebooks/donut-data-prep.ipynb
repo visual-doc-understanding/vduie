{
 "cells": [
  {
   "cell_type": "code",
   "execution_count": 2,
   "id": "6cb291c5-9b6d-4934-83e4-6f8528cab975",
   "metadata": {},
   "outputs": [
    {
     "name": "stdout",
     "output_type": "stream",
     "text": [
      "Dataset created with 50 samples in donut_dataset.jsonl\n"
     ]
    }
   ],
   "source": [
    "import os\n",
    "import json\n",
    "\n",
    "# Folders\n",
    "image_folder = r\"E:\\_vrdu_train_test_dataset\\w9\\train\\50\\json-to-image\"\n",
    "json_folder = r\"E:\\_vrdu_train_test_dataset\\w9\\train\\50\\go-annotation\"\n",
    "output_file = \"donut_dataset.jsonl\"  # Donut usually prefers jsonl\n",
    "\n",
    "dataset = []\n",
    "\n",
    "for json_file in os.listdir(json_folder):\n",
    "    if not json_file.endswith(\".json\"):\n",
    "        continue\n",
    "\n",
    "    json_path = os.path.join(json_folder, json_file)\n",
    "    with open(json_path, 'r', encoding='utf-8') as f:\n",
    "        data = json.load(f)\n",
    "\n",
    "    entities = data.get(\"entities\", [])\n",
    "    # Build the <s> ... </s> string\n",
    "    s_parts = []\n",
    "    for ent in entities:\n",
    "        key = ent.get(\"type\")  # Use type as key\n",
    "        value = ent.get(\"mentionText\")\n",
    "        if key and value:\n",
    "            s_parts.append(f\"<s_{key}>{value}</s_{key}>\")\n",
    "\n",
    "    s_text = \"<s>\" + \"\".join(s_parts) + \"</s>\"\n",
    "\n",
    "    # Only use image filename\n",
    "    base_name = os.path.splitext(json_file)[0]\n",
    "    image_file = base_name + \".jpg\"  # adjust if images have different extensions\n",
    "\n",
    "    dataset.append({\n",
    "        \"image_path\": image_file,\n",
    "        \"text\": s_text\n",
    "    })\n",
    "\n",
    "# Write JSONL file\n",
    "with open(output_file, 'w', encoding='utf-8') as f:\n",
    "    for item in dataset:\n",
    "        f.write(json.dumps(item) + \"\\n\")\n",
    "\n",
    "print(f\"Dataset created with {len(dataset)} samples in {output_file}\")\n"
   ]
  },
  {
   "cell_type": "code",
   "execution_count": null,
   "id": "5f4d25d2-66ac-49f0-96f9-fe53310010ce",
   "metadata": {},
   "outputs": [],
   "source": []
  }
 ],
 "metadata": {
  "kernelspec": {
   "display_name": "Python 3 (ipykernel)",
   "language": "python",
   "name": "python3"
  },
  "language_info": {
   "codemirror_mode": {
    "name": "ipython",
    "version": 3
   },
   "file_extension": ".py",
   "mimetype": "text/x-python",
   "name": "python",
   "nbconvert_exporter": "python",
   "pygments_lexer": "ipython3",
   "version": "3.12.7"
  }
 },
 "nbformat": 4,
 "nbformat_minor": 5
}
